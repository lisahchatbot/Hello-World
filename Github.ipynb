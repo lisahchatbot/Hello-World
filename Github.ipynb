{
  "nbformat": 4,
  "nbformat_minor": 0,
  "metadata": {
    "colab": {
      "provenance": [],
      "authorship_tag": "ABX9TyNkmWjdvrJF6bcE8gaILuET",
      "include_colab_link": true
    },
    "kernelspec": {
      "name": "python3",
      "display_name": "Python 3"
    },
    "language_info": {
      "name": "python"
    }
  },
  "cells": [
    {
      "cell_type": "markdown",
      "metadata": {
        "id": "view-in-github",
        "colab_type": "text"
      },
      "source": [
        "<a href=\"https://colab.research.google.com/github/lisahchatbot/Hello-World/blob/new-branch/Github.ipynb\" target=\"_parent\"><img src=\"https://colab.research.google.com/assets/colab-badge.svg\" alt=\"Open In Colab\"/></a>"
      ]
    },
    {
      "cell_type": "code",
      "execution_count": 3,
      "metadata": {
        "id": "P1mXKd_KwEHW",
        "colab": {
          "base_uri": "https://localhost:8080/"
        },
        "outputId": "e662fcee-8881-4429-c0a0-e38526497ab2"
      },
      "outputs": [
        {
          "output_type": "stream",
          "name": "stdout",
          "text": [
            "hello world\n",
            "hello Lisa Chatbot\n"
          ]
        }
      ],
      "source": [
        "print (\"hello world\")\n",
        "print (\"hello Lisa Chatbot\")\n"
      ]
    }
  ]
}